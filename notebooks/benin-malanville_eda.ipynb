{
 "cells": [
  {
   "cell_type": "code",
   "execution_count": null,
   "id": "8e8de854",
   "metadata": {},
   "outputs": [],
   "source": [
    "import pandas as pd\n",
    "import numpy as np\n",
    "import matplotlib.pyplot as plt\n",
    "from scipy import stats\n",
    "from scipy.stats import zscore \n",
    "\n",
    "\n",
    "df = pd.read_csv('../data/benin-malanville.csv')\n"
   ]
  },
  {
   "cell_type": "markdown",
   "id": "e6f4a6e3",
   "metadata": {},
   "source": [
    "## Summary Statistics & Missing-Value Report\n"
   ]
  },
  {
   "cell_type": "code",
   "execution_count": null,
   "id": "2ebaddbc",
   "metadata": {},
   "outputs": [
    {
     "name": "stdout",
     "output_type": "stream",
     "text": [
      "                 GHI            DNI            DHI           ModA  \\\n",
      "count  525600.000000  525600.000000  525600.000000  525600.000000   \n",
      "mean      240.559452     167.187516     115.358961     236.589496   \n",
      "std       331.131327     261.710501     158.691074     326.894859   \n",
      "min       -12.900000      -7.800000     -12.600000       0.000000   \n",
      "25%        -2.000000      -0.500000      -2.100000       0.000000   \n",
      "50%         1.800000      -0.100000       1.600000       4.500000   \n",
      "75%       483.400000     314.200000     216.300000     463.700000   \n",
      "max      1413.000000     952.300000     759.200000    1342.300000   \n",
      "\n",
      "                ModB             WS         WSgust           Tamb  \\\n",
      "count  525600.000000  525600.000000  525600.000000  525600.000000   \n",
      "mean      228.883576       2.121113       2.809195      28.179683   \n",
      "std       316.536515       1.603466       2.029120       5.924297   \n",
      "min         0.000000       0.000000       0.000000      11.000000   \n",
      "25%         0.000000       1.000000       1.300000      24.200000   \n",
      "50%         4.300000       1.900000       2.600000      28.000000   \n",
      "75%       447.900000       3.100000       4.100000      32.300000   \n",
      "max      1342.300000      19.500000      26.600000      43.800000   \n",
      "\n",
      "                  RH        WSstdev             WD        WDstdev  \\\n",
      "count  525600.000000  525600.000000  525600.000000  525600.000000   \n",
      "mean       54.487969       0.473390     153.435172       8.582407   \n",
      "std        28.073069       0.273395     102.332842       6.385864   \n",
      "min         2.100000       0.000000       0.000000       0.000000   \n",
      "25%        28.800000       0.400000      59.000000       3.700000   \n",
      "50%        55.100000       0.500000     181.000000       8.600000   \n",
      "75%        80.100000       0.600000     235.100000      12.300000   \n",
      "max       100.000000       4.200000     360.000000      99.400000   \n",
      "\n",
      "                  BP       Cleaning  Precipitation          TModA  \n",
      "count  525600.000000  525600.000000  525600.000000  525600.000000  \n",
      "mean      994.197199       0.000923       0.001905      35.246026  \n",
      "std         2.474993       0.030363       0.037115      14.807258  \n",
      "min       985.000000       0.000000       0.000000       9.000000  \n",
      "25%       993.000000       0.000000       0.000000      24.200000  \n",
      "50%       994.000000       0.000000       0.000000      30.000000  \n",
      "75%       996.000000       0.000000       0.000000      46.900000  \n",
      "max      1003.000000       1.000000       2.500000      81.000000  \n"
     ]
    }
   ],
   "source": [
    "numeric_cols = ['GHI', 'DNI', 'DHI', 'ModA', 'ModB', 'WS', 'WSgust', 'Tamb', 'RH', 'WSstdev', 'WD' ,'WDstdev', 'BP', 'Cleaning','Precipitation', 'TModA'  ]\n",
    "print(df[numeric_cols].describe())"
   ]
  },
  {
   "cell_type": "code",
   "execution_count": null,
   "id": "362e3eee",
   "metadata": {},
   "outputs": [
    {
     "name": "stdout",
     "output_type": "stream",
     "text": [
      "Columns with >5% missing values (%):\n",
      "Comments    100.0\n",
      "dtype: float64\n"
     ]
    }
   ],
   "source": [
    "missing_report = df.isna().sum() / len(df) * 100  # Percentage of missing values\n",
    "missing_above_5 = missing_report[missing_report > 5]  # Filter > 5%\n",
    "\n",
    "print(\"Columns with >5% missing values (%):\")\n",
    "print(missing_above_5)"
   ]
  },
  {
   "cell_type": "markdown",
   "id": "f5f1f8af",
   "metadata": {},
   "source": [
    "## Outlier Detection & Basic Cleaning"
   ]
  },
  {
   "cell_type": "markdown",
   "id": "d4daade1",
   "metadata": {},
   "source": [
    "### Outliner detection"
   ]
  },
  {
   "cell_type": "code",
   "execution_count": null,
   "id": "41add548",
   "metadata": {},
   "outputs": [
    {
     "name": "stdout",
     "output_type": "stream",
     "text": [
      "=== Outliers per Column (|Z-score| > 3) ===\n",
      "\n",
      "Column: GHI\n",
      "-----------------\n",
      "671       1274.0\n",
      "674       1349.0\n",
      "676       1334.0\n",
      "849       1253.0\n",
      "850       1324.0\n",
      "           ...  \n",
      "517777    1268.0\n",
      "520659    1280.0\n",
      "520696    1244.0\n",
      "522074    1262.0\n",
      "522075    1289.0\n",
      "Name: GHI, Length: 89, dtype: float64\n",
      "\n",
      "Column: DNI - No outliers detected.\n",
      "\n",
      "Column: DHI\n",
      "-----------------\n",
      "670       610.6\n",
      "671       615.2\n",
      "672       612.8\n",
      "673       593.2\n",
      "674       618.0\n",
      "          ...  \n",
      "524896    604.2\n",
      "524900    591.5\n",
      "524901    596.1\n",
      "524916    599.5\n",
      "524917    593.2\n",
      "Name: DHI, Length: 3738, dtype: float64\n"
     ]
    }
   ],
   "source": [
    "cols_to_check = ['GHI', 'DNI', 'DHI']\n",
    "\n",
    "z_scores = df[cols_to_check].apply(zscore, nan_policy='omit')\n",
    "outliers_mask = np.abs(z_scores) > 3\n",
    "print(\"=== Outliers per Column (|Z-score| > 3) ===\")\n",
    "for col in cols_to_check:\n",
    "    col_outliers = df.loc[outliers_mask[col], col]\n",
    "    \n",
    "    if not col_outliers.empty:\n",
    "        print(f\"\\nColumn: {col}\")\n",
    "        print(\"-----------------\")\n",
    "        print(col_outliers)\n",
    "    else:\n",
    "        print(f\"\\nColumn: {col} - No outliers detected.\")\n"
   ]
  },
  {
   "cell_type": "markdown",
   "id": "c0f3a5aa",
   "metadata": {},
   "source": [
    "### Missing values"
   ]
  },
  {
   "cell_type": "code",
   "execution_count": null,
   "id": "fba119f6",
   "metadata": {},
   "outputs": [
    {
     "name": "stdout",
     "output_type": "stream",
     "text": [
      "Missing values:\n",
      " Series([], dtype: int64)\n"
     ]
    }
   ],
   "source": [
    "missing_report = df[cols_to_check].isna().sum()\n",
    "print(\"Missing values:\\n\", missing_report[missing_report > 0])"
   ]
  },
  {
   "cell_type": "markdown",
   "id": "befecabb",
   "metadata": {},
   "source": [
    "### Incorrect entries"
   ]
  },
  {
   "cell_type": "code",
   "execution_count": null,
   "id": "5465e67b",
   "metadata": {},
   "outputs": [
    {
     "name": "stdout",
     "output_type": "stream",
     "text": [
      "Warning: 258847 negative values found in 'GHI'\n"
     ]
    }
   ],
   "source": [
    "for col in ['GHI', 'DNI', 'DHI', 'ModA', 'ModB', 'RH', 'WS', 'WSgust', 'WSstdev', 'BP', 'Cleaning', 'Precipitation']:\n",
    "    negatives = (df[col] < 0).sum()\n",
    "    if negatives > 0:\n",
    "        print(f\"Warning: {negatives} negative values found in '{col}'\")\n"
   ]
  },
  {
   "cell_type": "code",
   "execution_count": null,
   "id": "996ad08e",
   "metadata": {},
   "outputs": [],
   "source": [
    "## Cleaning"
   ]
  },
  {
   "cell_type": "code",
   "execution_count": null,
   "id": "5e189fd4",
   "metadata": {},
   "outputs": [],
   "source": [
    "\n",
    "## invalid negative values\n",
    "invalid_negative_cols = [\n",
    "    'GHI', 'DNI', 'DHI'\n",
    "]\n",
    "# Replace negatives with NaN\n",
    "df[invalid_negative_cols] = df[invalid_negative_cols].applymap(lambda x: x if x >= 0 else None)\n"
   ]
  },
  {
   "cell_type": "code",
   "execution_count": null,
   "id": "04900ae4",
   "metadata": {},
   "outputs": [],
   "source": [
    "## fix outliers\n",
    "df[cols_to_check] = df[cols_to_check].mask(outliers_mask, np.nan)"
   ]
  },
  {
   "cell_type": "code",
   "execution_count": null,
   "id": "3d3d834c",
   "metadata": {},
   "outputs": [],
   "source": [
    "## Dropping the Empty Comments Column\n",
    "\n",
    "df.drop(columns=['Comments'], inplace=True)"
   ]
  },
  {
   "cell_type": "markdown",
   "id": "43a455c8",
   "metadata": {},
   "source": [
    "## Export the Cleaned DataFrame"
   ]
  },
  {
   "cell_type": "code",
   "execution_count": null,
   "id": "747355bf",
   "metadata": {},
   "outputs": [],
   "source": [
    "output_path = \"../data/benin-malanville_clean.csv\"\n",
    "df.to_csv(output_path)"
   ]
  },
  {
   "cell_type": "code",
   "execution_count": null,
   "id": "4f1fb3f4",
   "metadata": {},
   "outputs": [],
   "source": [
    "df_clean = pd.read_csv('../data/benin-malanville_clean.csv')"
   ]
  }
 ],
 "metadata": {
  "kernelspec": {
   "display_name": "myenv",
   "language": "python",
   "name": "python3"
  },
  "language_info": {
   "codemirror_mode": {
    "name": "ipython",
    "version": 3
   },
   "file_extension": ".py",
   "mimetype": "text/x-python",
   "name": "python",
   "nbconvert_exporter": "python",
   "pygments_lexer": "ipython3",
   "version": "3.10.16"
  }
 },
 "nbformat": 4,
 "nbformat_minor": 5
}

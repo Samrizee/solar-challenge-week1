{
 "cells": [
  {
   "cell_type": "code",
   "execution_count": null,
   "id": "635eaf36",
   "metadata": {},
   "outputs": [],
   "source": [
    "df_clean = pd.read_csv('../data/benin-malanville_clean.csv')\n",
    "df_clean = pd.read_csv('../data/sierraleone-bumbuna_clean.csv')\n",
    "df_clean = pd.read_csv('../data/togo-dapaong_clean.csv', parse_dates=[\"Timestamp\"])\n",
    "\n",
    "\n",
    "\n"
   ]
  }
 ],
 "metadata": {
  "language_info": {
   "name": "python"
  }
 },
 "nbformat": 4,
 "nbformat_minor": 5
}

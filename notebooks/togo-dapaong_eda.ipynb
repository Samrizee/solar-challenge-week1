{
 "cells": [
  {
   "cell_type": "code",
   "execution_count": 2,
   "id": "87fb4a18",
   "metadata": {},
   "outputs": [],
   "source": [
    "import pandas as pd\n",
    "import numpy as np\n",
    "import matplotlib.pyplot as plt\n",
    "from scipy import stats\n",
    "from scipy.stats import zscore \n",
    "\n",
    "\n",
    "df = pd.read_csv('../data/togo-dapaong_qc.csv')\n"
   ]
  },
  {
   "cell_type": "markdown",
   "id": "d0394e91",
   "metadata": {},
   "source": [
    "## Summary Statistics & Missing-Value Report\n"
   ]
  },
  {
   "cell_type": "code",
   "execution_count": 3,
   "id": "b142810c",
   "metadata": {},
   "outputs": [
    {
     "name": "stdout",
     "output_type": "stream",
     "text": [
      "                 GHI            DNI            DHI           ModA  \\\n",
      "count  525600.000000  525600.000000  525600.000000  525600.000000   \n",
      "mean      230.555040     151.258469     116.444352     226.144375   \n",
      "std       322.532347     250.956962     156.520714     317.346938   \n",
      "min       -12.700000       0.000000       0.000000       0.000000   \n",
      "25%        -2.200000       0.000000       0.000000       0.000000   \n",
      "50%         2.100000       0.000000       2.500000       4.400000   \n",
      "75%       442.400000     246.400000     215.700000     422.525000   \n",
      "max      1424.000000    1004.500000     805.700000    1380.000000   \n",
      "\n",
      "                ModB             WS         WSgust           Tamb  \\\n",
      "count  525600.000000  525600.000000  525600.000000  525600.000000   \n",
      "mean      219.568588       2.368093       3.229490      27.751788   \n",
      "std       307.932510       1.462668       1.882565       4.758023   \n",
      "min         0.000000       0.000000       0.000000      14.900000   \n",
      "25%         0.000000       1.400000       1.900000      24.200000   \n",
      "50%         4.300000       2.200000       2.900000      27.200000   \n",
      "75%       411.000000       3.200000       4.400000      31.100000   \n",
      "max      1367.000000      16.100000      23.100000      41.400000   \n",
      "\n",
      "                  RH        WSstdev             WD        WDstdev  \\\n",
      "count  525600.000000  525600.000000  525600.000000  525600.000000   \n",
      "mean       55.013160       0.557740     161.741845      10.559568   \n",
      "std        28.778732       0.268923      91.877217       5.915490   \n",
      "min         3.300000       0.000000       0.000000       0.000000   \n",
      "25%        26.500000       0.400000      74.800000       6.900000   \n",
      "50%        59.300000       0.500000     199.100000      10.800000   \n",
      "75%        80.800000       0.700000     233.500000      14.100000   \n",
      "max        99.800000       4.700000     360.000000      86.900000   \n",
      "\n",
      "                  BP       Cleaning  Precipitation          TModA  \n",
      "count  525600.000000  525600.000000  525600.000000  525600.000000  \n",
      "mean      975.915242       0.000535       0.001382      32.444403  \n",
      "std         2.153977       0.023116       0.026350      10.998334  \n",
      "min       968.000000       0.000000       0.000000      13.100000  \n",
      "25%       975.000000       0.000000       0.000000      23.900000  \n",
      "50%       976.000000       0.000000       0.000000      28.400000  \n",
      "75%       977.000000       0.000000       0.000000      40.600000  \n",
      "max       983.000000       1.000000       2.300000      70.400000  \n"
     ]
    }
   ],
   "source": [
    "numeric_cols = ['GHI', 'DNI', 'DHI', 'ModA', 'ModB', 'WS', 'WSgust', 'Tamb', 'RH', 'WSstdev', 'WD' ,'WDstdev', 'BP', 'Cleaning','Precipitation', 'TModA'  ]\n",
    "print(df[numeric_cols].describe())"
   ]
  },
  {
   "cell_type": "code",
   "execution_count": 4,
   "id": "b2fa13fd",
   "metadata": {},
   "outputs": [
    {
     "name": "stdout",
     "output_type": "stream",
     "text": [
      "Columns with >5% missing values (%):\n",
      "Comments    100.0\n",
      "dtype: float64\n"
     ]
    }
   ],
   "source": [
    "missing_report = df.isna().sum() / len(df) * 100  # Percentage of missing values\n",
    "missing_above_5 = missing_report[missing_report > 5]  # Filter > 5%\n",
    "\n",
    "print(\"Columns with >5% missing values (%):\")\n",
    "print(missing_above_5)"
   ]
  },
  {
   "cell_type": "markdown",
   "id": "bb16976b",
   "metadata": {},
   "source": [
    "## Outlier Detection & Basic Cleaning"
   ]
  },
  {
   "cell_type": "markdown",
   "id": "f49e9971",
   "metadata": {},
   "source": [
    "### Outliner detection"
   ]
  },
  {
   "cell_type": "code",
   "execution_count": 5,
   "id": "8557d54f",
   "metadata": {},
   "outputs": [
    {
     "name": "stdout",
     "output_type": "stream",
     "text": [
      "=== Outliers per Column (|Z-score| > 3) ===\n",
      "\n",
      "Column: GHI\n",
      "-----------------\n",
      "248417    1223.0\n",
      "248418    1267.0\n",
      "248419    1243.0\n",
      "248423    1234.0\n",
      "248425    1263.0\n",
      "           ...  \n",
      "510410    1221.0\n",
      "510412    1285.0\n",
      "510413    1202.0\n",
      "510414    1267.0\n",
      "510416    1214.0\n",
      "Name: GHI, Length: 305, dtype: float64\n",
      "\n",
      "Column: DNI\n",
      "-----------------\n",
      "7860      989.8\n",
      "39532     905.5\n",
      "39542     906.1\n",
      "39543     907.7\n",
      "39544     907.4\n",
      "          ...  \n",
      "144887    910.3\n",
      "144888    907.8\n",
      "144892    906.1\n",
      "144893    906.8\n",
      "510402    913.7\n",
      "Name: DNI, Length: 1062, dtype: float64\n",
      "\n",
      "Column: DHI\n",
      "-----------------\n",
      "101472    609.5\n",
      "102872    608.3\n",
      "102892    618.1\n",
      "102893    646.1\n",
      "102894    636.9\n",
      "          ...  \n",
      "510473    629.8\n",
      "510474    621.7\n",
      "510475    614.9\n",
      "510476    605.6\n",
      "510477    591.0\n",
      "Name: DHI, Length: 3415, dtype: float64\n"
     ]
    }
   ],
   "source": [
    "cols_to_check = ['GHI', 'DNI', 'DHI']\n",
    "\n",
    "z_scores = df[cols_to_check].apply(zscore, nan_policy='omit')\n",
    "outliers_mask = np.abs(z_scores) > 3\n",
    "print(\"=== Outliers per Column (|Z-score| > 3) ===\")\n",
    "for col in cols_to_check:\n",
    "    col_outliers = df.loc[outliers_mask[col], col]\n",
    "    \n",
    "    if not col_outliers.empty:\n",
    "        print(f\"\\nColumn: {col}\")\n",
    "        print(\"-----------------\")\n",
    "        print(col_outliers)\n",
    "    else:\n",
    "        print(f\"\\nColumn: {col} - No outliers detected.\")\n"
   ]
  },
  {
   "cell_type": "markdown",
   "id": "6aca482b",
   "metadata": {},
   "source": [
    "### Missing values"
   ]
  },
  {
   "cell_type": "code",
   "execution_count": 6,
   "id": "1fa36ae5",
   "metadata": {},
   "outputs": [
    {
     "name": "stdout",
     "output_type": "stream",
     "text": [
      "Missing values:\n",
      " Series([], dtype: int64)\n"
     ]
    }
   ],
   "source": [
    "missing_report = df[cols_to_check].isna().sum()\n",
    "print(\"Missing values:\\n\", missing_report[missing_report > 0])"
   ]
  },
  {
   "cell_type": "markdown",
   "id": "8448ca6b",
   "metadata": {},
   "source": [
    "### Incorrect entries"
   ]
  },
  {
   "cell_type": "code",
   "execution_count": 7,
   "id": "714d6b0a",
   "metadata": {},
   "outputs": [
    {
     "name": "stdout",
     "output_type": "stream",
     "text": [
      "Warning: 257385 negative values found in 'GHI'\n"
     ]
    }
   ],
   "source": [
    "for col in ['GHI', 'DNI', 'DHI', 'ModA', 'ModB', 'RH', 'WS', 'WSgust', 'WSstdev', 'BP', 'Cleaning', 'Precipitation']:\n",
    "    negatives = (df[col] < 0).sum()\n",
    "    if negatives > 0:\n",
    "        print(f\"Warning: {negatives} negative values found in '{col}'\")\n"
   ]
  },
  {
   "cell_type": "markdown",
   "id": "08f63176",
   "metadata": {},
   "source": [
    "## Cleaning"
   ]
  },
  {
   "cell_type": "code",
   "execution_count": 8,
   "id": "b40d58a1",
   "metadata": {},
   "outputs": [
    {
     "name": "stderr",
     "output_type": "stream",
     "text": [
      "/tmp/ipykernel_948958/3401128404.py:6: FutureWarning: DataFrame.applymap has been deprecated. Use DataFrame.map instead.\n",
      "  df[invalid_negative_cols] = df[invalid_negative_cols].applymap(lambda x: x if x >= 0 else None)\n"
     ]
    }
   ],
   "source": [
    "\n",
    "## invalid negative values\n",
    "invalid_negative_cols = [\n",
    "    'GHI', 'DNI', 'DHI'\n",
    "]\n",
    "# Replace negatives with NaN\n",
    "df[invalid_negative_cols] = df[invalid_negative_cols].applymap(lambda x: x if x >= 0 else None)\n"
   ]
  },
  {
   "cell_type": "code",
   "execution_count": 9,
   "id": "e27c875e",
   "metadata": {},
   "outputs": [],
   "source": [
    "## fix outliers\n",
    "df[cols_to_check] = df[cols_to_check].mask(outliers_mask, np.nan)"
   ]
  },
  {
   "cell_type": "code",
   "execution_count": 10,
   "id": "463ce3de",
   "metadata": {},
   "outputs": [],
   "source": [
    "## Dropping the Empty Comments Column\n",
    "\n",
    "df.drop(columns=['Comments'], inplace=True)"
   ]
  },
  {
   "cell_type": "markdown",
   "id": "eca1f6a9",
   "metadata": {},
   "source": [
    "## Export the Cleaned DataFrame"
   ]
  },
  {
   "cell_type": "code",
   "execution_count": 11,
   "id": "1f7b9c65",
   "metadata": {},
   "outputs": [
    {
     "data": {
      "text/html": [
       "<div>\n",
       "<style scoped>\n",
       "    .dataframe tbody tr th:only-of-type {\n",
       "        vertical-align: middle;\n",
       "    }\n",
       "\n",
       "    .dataframe tbody tr th {\n",
       "        vertical-align: top;\n",
       "    }\n",
       "\n",
       "    .dataframe thead th {\n",
       "        text-align: right;\n",
       "    }\n",
       "</style>\n",
       "<table border=\"1\" class=\"dataframe\">\n",
       "  <thead>\n",
       "    <tr style=\"text-align: right;\">\n",
       "      <th></th>\n",
       "      <th>Unnamed: 0</th>\n",
       "      <th>GHI</th>\n",
       "      <th>DNI</th>\n",
       "      <th>DHI</th>\n",
       "      <th>ModA</th>\n",
       "      <th>ModB</th>\n",
       "      <th>Tamb</th>\n",
       "      <th>RH</th>\n",
       "      <th>WS</th>\n",
       "      <th>WSgust</th>\n",
       "      <th>WSstdev</th>\n",
       "      <th>WD</th>\n",
       "      <th>WDstdev</th>\n",
       "      <th>BP</th>\n",
       "      <th>Cleaning</th>\n",
       "      <th>Precipitation</th>\n",
       "      <th>TModA</th>\n",
       "      <th>TModB</th>\n",
       "    </tr>\n",
       "  </thead>\n",
       "  <tbody>\n",
       "    <tr>\n",
       "      <th>count</th>\n",
       "      <td>525600.00000</td>\n",
       "      <td>266664.000000</td>\n",
       "      <td>249613.000000</td>\n",
       "      <td>262680.000000</td>\n",
       "      <td>525600.000000</td>\n",
       "      <td>525600.000000</td>\n",
       "      <td>525600.000000</td>\n",
       "      <td>525600.000000</td>\n",
       "      <td>525600.000000</td>\n",
       "      <td>525600.000000</td>\n",
       "      <td>525600.000000</td>\n",
       "      <td>525600.000000</td>\n",
       "      <td>525600.000000</td>\n",
       "      <td>525600.000000</td>\n",
       "      <td>525600.000000</td>\n",
       "      <td>525600.000000</td>\n",
       "      <td>525600.000000</td>\n",
       "      <td>525600.000000</td>\n",
       "    </tr>\n",
       "    <tr>\n",
       "      <th>mean</th>\n",
       "      <td>262799.50000</td>\n",
       "      <td>476.477999</td>\n",
       "      <td>352.575567</td>\n",
       "      <td>225.162167</td>\n",
       "      <td>236.589496</td>\n",
       "      <td>228.883576</td>\n",
       "      <td>28.179683</td>\n",
       "      <td>54.487969</td>\n",
       "      <td>2.121113</td>\n",
       "      <td>2.809195</td>\n",
       "      <td>0.473390</td>\n",
       "      <td>153.435172</td>\n",
       "      <td>8.582407</td>\n",
       "      <td>994.197199</td>\n",
       "      <td>0.000923</td>\n",
       "      <td>0.001905</td>\n",
       "      <td>35.246026</td>\n",
       "      <td>32.471736</td>\n",
       "    </tr>\n",
       "    <tr>\n",
       "      <th>std</th>\n",
       "      <td>151727.79508</td>\n",
       "      <td>320.293849</td>\n",
       "      <td>280.657284</td>\n",
       "      <td>143.824953</td>\n",
       "      <td>326.894859</td>\n",
       "      <td>316.536515</td>\n",
       "      <td>5.924297</td>\n",
       "      <td>28.073069</td>\n",
       "      <td>1.603466</td>\n",
       "      <td>2.029120</td>\n",
       "      <td>0.273395</td>\n",
       "      <td>102.332842</td>\n",
       "      <td>6.385864</td>\n",
       "      <td>2.474993</td>\n",
       "      <td>0.030363</td>\n",
       "      <td>0.037115</td>\n",
       "      <td>14.807258</td>\n",
       "      <td>12.348743</td>\n",
       "    </tr>\n",
       "    <tr>\n",
       "      <th>min</th>\n",
       "      <td>0.00000</td>\n",
       "      <td>0.000000</td>\n",
       "      <td>0.000000</td>\n",
       "      <td>0.000000</td>\n",
       "      <td>0.000000</td>\n",
       "      <td>0.000000</td>\n",
       "      <td>11.000000</td>\n",
       "      <td>2.100000</td>\n",
       "      <td>0.000000</td>\n",
       "      <td>0.000000</td>\n",
       "      <td>0.000000</td>\n",
       "      <td>0.000000</td>\n",
       "      <td>0.000000</td>\n",
       "      <td>985.000000</td>\n",
       "      <td>0.000000</td>\n",
       "      <td>0.000000</td>\n",
       "      <td>9.000000</td>\n",
       "      <td>8.100000</td>\n",
       "    </tr>\n",
       "    <tr>\n",
       "      <th>25%</th>\n",
       "      <td>131399.75000</td>\n",
       "      <td>176.800000</td>\n",
       "      <td>54.100000</td>\n",
       "      <td>116.300000</td>\n",
       "      <td>0.000000</td>\n",
       "      <td>0.000000</td>\n",
       "      <td>24.200000</td>\n",
       "      <td>28.800000</td>\n",
       "      <td>1.000000</td>\n",
       "      <td>1.300000</td>\n",
       "      <td>0.400000</td>\n",
       "      <td>59.000000</td>\n",
       "      <td>3.700000</td>\n",
       "      <td>993.000000</td>\n",
       "      <td>0.000000</td>\n",
       "      <td>0.000000</td>\n",
       "      <td>24.200000</td>\n",
       "      <td>23.600000</td>\n",
       "    </tr>\n",
       "    <tr>\n",
       "      <th>50%</th>\n",
       "      <td>262799.50000</td>\n",
       "      <td>474.000000</td>\n",
       "      <td>345.700000</td>\n",
       "      <td>210.600000</td>\n",
       "      <td>4.500000</td>\n",
       "      <td>4.300000</td>\n",
       "      <td>28.000000</td>\n",
       "      <td>55.100000</td>\n",
       "      <td>1.900000</td>\n",
       "      <td>2.600000</td>\n",
       "      <td>0.500000</td>\n",
       "      <td>181.000000</td>\n",
       "      <td>8.600000</td>\n",
       "      <td>994.000000</td>\n",
       "      <td>0.000000</td>\n",
       "      <td>0.000000</td>\n",
       "      <td>30.000000</td>\n",
       "      <td>28.900000</td>\n",
       "    </tr>\n",
       "    <tr>\n",
       "      <th>75%</th>\n",
       "      <td>394199.25000</td>\n",
       "      <td>771.600000</td>\n",
       "      <td>602.900000</td>\n",
       "      <td>318.300000</td>\n",
       "      <td>463.700000</td>\n",
       "      <td>447.900000</td>\n",
       "      <td>32.300000</td>\n",
       "      <td>80.100000</td>\n",
       "      <td>3.100000</td>\n",
       "      <td>4.100000</td>\n",
       "      <td>0.600000</td>\n",
       "      <td>235.100000</td>\n",
       "      <td>12.300000</td>\n",
       "      <td>996.000000</td>\n",
       "      <td>0.000000</td>\n",
       "      <td>0.000000</td>\n",
       "      <td>46.900000</td>\n",
       "      <td>41.500000</td>\n",
       "    </tr>\n",
       "    <tr>\n",
       "      <th>max</th>\n",
       "      <td>525599.00000</td>\n",
       "      <td>1233.000000</td>\n",
       "      <td>952.300000</td>\n",
       "      <td>591.400000</td>\n",
       "      <td>1342.300000</td>\n",
       "      <td>1342.300000</td>\n",
       "      <td>43.800000</td>\n",
       "      <td>100.000000</td>\n",
       "      <td>19.500000</td>\n",
       "      <td>26.600000</td>\n",
       "      <td>4.200000</td>\n",
       "      <td>360.000000</td>\n",
       "      <td>99.400000</td>\n",
       "      <td>1003.000000</td>\n",
       "      <td>1.000000</td>\n",
       "      <td>2.500000</td>\n",
       "      <td>81.000000</td>\n",
       "      <td>72.500000</td>\n",
       "    </tr>\n",
       "  </tbody>\n",
       "</table>\n",
       "</div>"
      ],
      "text/plain": [
       "         Unnamed: 0            GHI            DNI            DHI  \\\n",
       "count  525600.00000  266664.000000  249613.000000  262680.000000   \n",
       "mean   262799.50000     476.477999     352.575567     225.162167   \n",
       "std    151727.79508     320.293849     280.657284     143.824953   \n",
       "min         0.00000       0.000000       0.000000       0.000000   \n",
       "25%    131399.75000     176.800000      54.100000     116.300000   \n",
       "50%    262799.50000     474.000000     345.700000     210.600000   \n",
       "75%    394199.25000     771.600000     602.900000     318.300000   \n",
       "max    525599.00000    1233.000000     952.300000     591.400000   \n",
       "\n",
       "                ModA           ModB           Tamb             RH  \\\n",
       "count  525600.000000  525600.000000  525600.000000  525600.000000   \n",
       "mean      236.589496     228.883576      28.179683      54.487969   \n",
       "std       326.894859     316.536515       5.924297      28.073069   \n",
       "min         0.000000       0.000000      11.000000       2.100000   \n",
       "25%         0.000000       0.000000      24.200000      28.800000   \n",
       "50%         4.500000       4.300000      28.000000      55.100000   \n",
       "75%       463.700000     447.900000      32.300000      80.100000   \n",
       "max      1342.300000    1342.300000      43.800000     100.000000   \n",
       "\n",
       "                  WS         WSgust        WSstdev             WD  \\\n",
       "count  525600.000000  525600.000000  525600.000000  525600.000000   \n",
       "mean        2.121113       2.809195       0.473390     153.435172   \n",
       "std         1.603466       2.029120       0.273395     102.332842   \n",
       "min         0.000000       0.000000       0.000000       0.000000   \n",
       "25%         1.000000       1.300000       0.400000      59.000000   \n",
       "50%         1.900000       2.600000       0.500000     181.000000   \n",
       "75%         3.100000       4.100000       0.600000     235.100000   \n",
       "max        19.500000      26.600000       4.200000     360.000000   \n",
       "\n",
       "             WDstdev             BP       Cleaning  Precipitation  \\\n",
       "count  525600.000000  525600.000000  525600.000000  525600.000000   \n",
       "mean        8.582407     994.197199       0.000923       0.001905   \n",
       "std         6.385864       2.474993       0.030363       0.037115   \n",
       "min         0.000000     985.000000       0.000000       0.000000   \n",
       "25%         3.700000     993.000000       0.000000       0.000000   \n",
       "50%         8.600000     994.000000       0.000000       0.000000   \n",
       "75%        12.300000     996.000000       0.000000       0.000000   \n",
       "max        99.400000    1003.000000       1.000000       2.500000   \n",
       "\n",
       "               TModA          TModB  \n",
       "count  525600.000000  525600.000000  \n",
       "mean       35.246026      32.471736  \n",
       "std        14.807258      12.348743  \n",
       "min         9.000000       8.100000  \n",
       "25%        24.200000      23.600000  \n",
       "50%        30.000000      28.900000  \n",
       "75%        46.900000      41.500000  \n",
       "max        81.000000      72.500000  "
      ]
     },
     "execution_count": 11,
     "metadata": {},
     "output_type": "execute_result"
    }
   ],
   "source": [
    "output_path = \"../data/sierraleone-bumbuna_clean.csv\"\n",
    "df.to_csv(output_path)\n",
    "\n",
    "df_clean = pd.read_csv('../data/benin-malanville_clean.csv')\n",
    "df_clean.describe()"
   ]
  }
 ],
 "metadata": {
  "kernelspec": {
   "display_name": "myenv",
   "language": "python",
   "name": "python3"
  },
  "language_info": {
   "codemirror_mode": {
    "name": "ipython",
    "version": 3
   },
   "file_extension": ".py",
   "mimetype": "text/x-python",
   "name": "python",
   "nbconvert_exporter": "python",
   "pygments_lexer": "ipython3",
   "version": "3.10.16"
  }
 },
 "nbformat": 4,
 "nbformat_minor": 5
}

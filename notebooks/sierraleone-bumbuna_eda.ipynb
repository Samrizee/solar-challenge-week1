{
 "cells": [
  {
   "cell_type": "code",
   "execution_count": 1,
   "id": "c3cbb5c0",
   "metadata": {},
   "outputs": [],
   "source": [
    "import pandas as pd\n",
    "import numpy as np\n",
    "import matplotlib.pyplot as plt\n",
    "from scipy import stats\n",
    "from scipy.stats import zscore \n",
    "\n",
    "\n",
    "df = pd.read_csv('../data/sierraleone-bumbuna.csv')\n"
   ]
  },
  {
   "cell_type": "markdown",
   "id": "91d709c1",
   "metadata": {},
   "source": [
    "## Summary Statistics & Missing-Value Report\n"
   ]
  },
  {
   "cell_type": "code",
   "execution_count": 2,
   "id": "a0152a93",
   "metadata": {},
   "outputs": [
    {
     "name": "stdout",
     "output_type": "stream",
     "text": [
      "                 GHI            DNI            DHI           ModA  \\\n",
      "count  525600.000000  525600.000000  525600.000000  525600.000000   \n",
      "mean      201.957515     116.376337     113.720571     206.643095   \n",
      "std       298.495150     218.652659     158.946032     300.896893   \n",
      "min       -19.500000      -7.800000     -17.900000       0.000000   \n",
      "25%        -2.800000      -0.300000      -3.800000       0.000000   \n",
      "50%         0.300000      -0.100000      -0.100000       3.600000   \n",
      "75%       362.400000     107.000000     224.700000     359.500000   \n",
      "max      1499.000000     946.000000     892.000000    1507.000000   \n",
      "\n",
      "                ModB             WS         WSgust           Tamb  \\\n",
      "count  525600.000000  525600.000000  525600.000000  525600.000000   \n",
      "mean      198.114691       1.146113       1.691606      26.319394   \n",
      "std       288.889073       1.239248       1.617053       4.398605   \n",
      "min         0.000000       0.000000       0.000000      12.300000   \n",
      "25%         0.000000       0.000000       0.000000      23.100000   \n",
      "50%         3.400000       0.800000       1.600000      25.300000   \n",
      "75%       345.400000       2.000000       2.600000      29.400000   \n",
      "max      1473.000000      19.200000      23.900000      39.900000   \n",
      "\n",
      "                  RH        WSstdev             WD        WDstdev  \\\n",
      "count  525600.000000  525600.000000  525600.000000  525600.000000   \n",
      "mean       79.448857       0.363823     133.044668       7.172220   \n",
      "std        20.520775       0.295000     114.284792       7.535093   \n",
      "min         9.900000       0.000000       0.000000       0.000000   \n",
      "25%        68.700000       0.000000       0.000000       0.000000   \n",
      "50%        85.400000       0.400000     161.500000       6.200000   \n",
      "75%        96.700000       0.600000     234.100000      12.000000   \n",
      "max       100.000000       4.100000     360.000000      98.400000   \n",
      "\n",
      "                  BP       Cleaning  Precipitation          TModA  \n",
      "count  525600.000000  525600.000000  525600.000000  525600.000000  \n",
      "mean      999.876469       0.000967       0.004806      32.504263  \n",
      "std         2.104419       0.031074       0.047556      12.434899  \n",
      "min       993.000000       0.000000       0.000000      10.700000  \n",
      "25%       999.000000       0.000000       0.000000      23.500000  \n",
      "50%      1000.000000       0.000000       0.000000      26.600000  \n",
      "75%      1001.000000       0.000000       0.000000      40.900000  \n",
      "max      1006.000000       1.000000       2.400000      72.800000  \n"
     ]
    }
   ],
   "source": [
    "numeric_cols = ['GHI', 'DNI', 'DHI', 'ModA', 'ModB', 'WS', 'WSgust', 'Tamb', 'RH', 'WSstdev', 'WD' ,'WDstdev', 'BP', 'Cleaning','Precipitation', 'TModA'  ]\n",
    "print(df[numeric_cols].describe())"
   ]
  },
  {
   "cell_type": "code",
   "execution_count": 3,
   "id": "e59b0d9f",
   "metadata": {},
   "outputs": [
    {
     "name": "stdout",
     "output_type": "stream",
     "text": [
      "Columns with >5% missing values (%):\n",
      "Comments    100.0\n",
      "dtype: float64\n"
     ]
    }
   ],
   "source": [
    "missing_report = df.isna().sum() / len(df) * 100  # Percentage of missing values\n",
    "missing_above_5 = missing_report[missing_report > 5]  # Filter > 5%\n",
    "\n",
    "print(\"Columns with >5% missing values (%):\")\n",
    "print(missing_above_5)"
   ]
  },
  {
   "cell_type": "markdown",
   "id": "5b525e5d",
   "metadata": {},
   "source": [
    "## Outlier Detection & Basic Cleaning"
   ]
  },
  {
   "cell_type": "markdown",
   "id": "c9bf9952",
   "metadata": {},
   "source": [
    "### Outliner detection"
   ]
  },
  {
   "cell_type": "code",
   "execution_count": 4,
   "id": "1f27ffb4",
   "metadata": {},
   "outputs": [
    {
     "name": "stdout",
     "output_type": "stream",
     "text": [
      "=== Outliers per Column (|Z-score| > 3) ===\n",
      "\n",
      "Column: GHI\n",
      "-----------------\n",
      "663       1119.0\n",
      "671       1154.0\n",
      "780       1111.0\n",
      "781       1126.0\n",
      "782       1151.0\n",
      "           ...  \n",
      "517747    1134.0\n",
      "517748    1162.0\n",
      "517749    1163.0\n",
      "517750    1125.0\n",
      "517823    1109.0\n",
      "Name: GHI, Length: 2477, dtype: float64\n",
      "\n",
      "Column: DNI\n",
      "-----------------\n",
      "699       815.0\n",
      "700       820.0\n",
      "701       830.0\n",
      "702       820.0\n",
      "703       833.0\n",
      "          ...  \n",
      "519235    808.0\n",
      "519236    804.0\n",
      "519237    801.0\n",
      "519238    795.9\n",
      "519239    786.7\n",
      "Name: DNI, Length: 7586, dtype: float64\n",
      "\n",
      "Column: DHI\n",
      "-----------------\n",
      "653       594.3\n",
      "654       599.6\n",
      "655       605.9\n",
      "656       603.9\n",
      "657       598.8\n",
      "          ...  \n",
      "517728    682.1\n",
      "517729    669.3\n",
      "517730    645.6\n",
      "517731    625.9\n",
      "517732    603.5\n",
      "Name: DHI, Length: 2986, dtype: float64\n"
     ]
    }
   ],
   "source": [
    "cols_to_check = ['GHI', 'DNI', 'DHI']\n",
    "\n",
    "z_scores = df[cols_to_check].apply(zscore, nan_policy='omit')\n",
    "outliers_mask = np.abs(z_scores) > 3\n",
    "print(\"=== Outliers per Column (|Z-score| > 3) ===\")\n",
    "for col in cols_to_check:\n",
    "    col_outliers = df.loc[outliers_mask[col], col]\n",
    "    \n",
    "    if not col_outliers.empty:\n",
    "        print(f\"\\nColumn: {col}\")\n",
    "        print(\"-----------------\")\n",
    "        print(col_outliers)\n",
    "    else:\n",
    "        print(f\"\\nColumn: {col} - No outliers detected.\")\n"
   ]
  },
  {
   "cell_type": "markdown",
   "id": "d96380c1",
   "metadata": {},
   "source": [
    "### Missing values"
   ]
  },
  {
   "cell_type": "code",
   "execution_count": 5,
   "id": "9be087da",
   "metadata": {},
   "outputs": [
    {
     "name": "stdout",
     "output_type": "stream",
     "text": [
      "Missing values:\n",
      " Series([], dtype: int64)\n"
     ]
    }
   ],
   "source": [
    "missing_report = df[cols_to_check].isna().sum()\n",
    "print(\"Missing values:\\n\", missing_report[missing_report > 0])"
   ]
  },
  {
   "cell_type": "markdown",
   "id": "38dc9f3b",
   "metadata": {},
   "source": [
    "### Incorrect entries"
   ]
  },
  {
   "cell_type": "code",
   "execution_count": 6,
   "id": "b2194dff",
   "metadata": {},
   "outputs": [
    {
     "name": "stdout",
     "output_type": "stream",
     "text": [
      "Warning: 261135 negative values found in 'GHI'\n",
      "Warning: 266352 negative values found in 'DNI'\n",
      "Warning: 263128 negative values found in 'DHI'\n"
     ]
    }
   ],
   "source": [
    "for col in ['GHI', 'DNI', 'DHI', 'ModA', 'ModB', 'RH', 'WS', 'WSgust', 'WSstdev', 'BP', 'Cleaning', 'Precipitation']:\n",
    "    negatives = (df[col] < 0).sum()\n",
    "    if negatives > 0:\n",
    "        print(f\"Warning: {negatives} negative values found in '{col}'\")\n"
   ]
  },
  {
   "cell_type": "markdown",
   "id": "02c669d7",
   "metadata": {},
   "source": [
    "## Cleaning"
   ]
  },
  {
   "cell_type": "code",
   "execution_count": 7,
   "id": "5bf60bcb",
   "metadata": {},
   "outputs": [
    {
     "name": "stderr",
     "output_type": "stream",
     "text": [
      "/tmp/ipykernel_898974/3401128404.py:6: FutureWarning: DataFrame.applymap has been deprecated. Use DataFrame.map instead.\n",
      "  df[invalid_negative_cols] = df[invalid_negative_cols].applymap(lambda x: x if x >= 0 else None)\n"
     ]
    }
   ],
   "source": [
    "\n",
    "## invalid negative values\n",
    "invalid_negative_cols = [\n",
    "    'GHI', 'DNI', 'DHI'\n",
    "]\n",
    "# Replace negatives with NaN\n",
    "df[invalid_negative_cols] = df[invalid_negative_cols].applymap(lambda x: x if x >= 0 else None)\n"
   ]
  },
  {
   "cell_type": "code",
   "execution_count": 8,
   "id": "3920d9d1",
   "metadata": {},
   "outputs": [],
   "source": [
    "## fix outliers\n",
    "df[cols_to_check] = df[cols_to_check].mask(outliers_mask, np.nan)"
   ]
  },
  {
   "cell_type": "code",
   "execution_count": 9,
   "id": "21295097",
   "metadata": {},
   "outputs": [],
   "source": [
    "## Dropping the Empty Comments Column\n",
    "\n",
    "df.drop(columns=['Comments'], inplace=True)"
   ]
  },
  {
   "cell_type": "markdown",
   "id": "2c27d68a",
   "metadata": {},
   "source": [
    "## Export the Cleaned DataFrame"
   ]
  },
  {
   "cell_type": "code",
   "execution_count": 10,
   "id": "8ab0b75b",
   "metadata": {},
   "outputs": [
    {
     "data": {
      "text/html": [
       "<div>\n",
       "<style scoped>\n",
       "    .dataframe tbody tr th:only-of-type {\n",
       "        vertical-align: middle;\n",
       "    }\n",
       "\n",
       "    .dataframe tbody tr th {\n",
       "        vertical-align: top;\n",
       "    }\n",
       "\n",
       "    .dataframe thead th {\n",
       "        text-align: right;\n",
       "    }\n",
       "</style>\n",
       "<table border=\"1\" class=\"dataframe\">\n",
       "  <thead>\n",
       "    <tr style=\"text-align: right;\">\n",
       "      <th></th>\n",
       "      <th>Unnamed: 0</th>\n",
       "      <th>GHI</th>\n",
       "      <th>DNI</th>\n",
       "      <th>DHI</th>\n",
       "      <th>ModA</th>\n",
       "      <th>ModB</th>\n",
       "      <th>Tamb</th>\n",
       "      <th>RH</th>\n",
       "      <th>WS</th>\n",
       "      <th>WSgust</th>\n",
       "      <th>WSstdev</th>\n",
       "      <th>WD</th>\n",
       "      <th>WDstdev</th>\n",
       "      <th>BP</th>\n",
       "      <th>Cleaning</th>\n",
       "      <th>Precipitation</th>\n",
       "      <th>TModA</th>\n",
       "      <th>TModB</th>\n",
       "    </tr>\n",
       "  </thead>\n",
       "  <tbody>\n",
       "    <tr>\n",
       "      <th>count</th>\n",
       "      <td>525600.00000</td>\n",
       "      <td>266664.000000</td>\n",
       "      <td>249613.000000</td>\n",
       "      <td>262680.000000</td>\n",
       "      <td>525600.000000</td>\n",
       "      <td>525600.000000</td>\n",
       "      <td>525600.000000</td>\n",
       "      <td>525600.000000</td>\n",
       "      <td>525600.000000</td>\n",
       "      <td>525600.000000</td>\n",
       "      <td>525600.000000</td>\n",
       "      <td>525600.000000</td>\n",
       "      <td>525600.000000</td>\n",
       "      <td>525600.000000</td>\n",
       "      <td>525600.000000</td>\n",
       "      <td>525600.000000</td>\n",
       "      <td>525600.000000</td>\n",
       "      <td>525600.000000</td>\n",
       "    </tr>\n",
       "    <tr>\n",
       "      <th>mean</th>\n",
       "      <td>262799.50000</td>\n",
       "      <td>476.477999</td>\n",
       "      <td>352.575567</td>\n",
       "      <td>225.162167</td>\n",
       "      <td>236.589496</td>\n",
       "      <td>228.883576</td>\n",
       "      <td>28.179683</td>\n",
       "      <td>54.487969</td>\n",
       "      <td>2.121113</td>\n",
       "      <td>2.809195</td>\n",
       "      <td>0.473390</td>\n",
       "      <td>153.435172</td>\n",
       "      <td>8.582407</td>\n",
       "      <td>994.197199</td>\n",
       "      <td>0.000923</td>\n",
       "      <td>0.001905</td>\n",
       "      <td>35.246026</td>\n",
       "      <td>32.471736</td>\n",
       "    </tr>\n",
       "    <tr>\n",
       "      <th>std</th>\n",
       "      <td>151727.79508</td>\n",
       "      <td>320.293849</td>\n",
       "      <td>280.657284</td>\n",
       "      <td>143.824953</td>\n",
       "      <td>326.894859</td>\n",
       "      <td>316.536515</td>\n",
       "      <td>5.924297</td>\n",
       "      <td>28.073069</td>\n",
       "      <td>1.603466</td>\n",
       "      <td>2.029120</td>\n",
       "      <td>0.273395</td>\n",
       "      <td>102.332842</td>\n",
       "      <td>6.385864</td>\n",
       "      <td>2.474993</td>\n",
       "      <td>0.030363</td>\n",
       "      <td>0.037115</td>\n",
       "      <td>14.807258</td>\n",
       "      <td>12.348743</td>\n",
       "    </tr>\n",
       "    <tr>\n",
       "      <th>min</th>\n",
       "      <td>0.00000</td>\n",
       "      <td>0.000000</td>\n",
       "      <td>0.000000</td>\n",
       "      <td>0.000000</td>\n",
       "      <td>0.000000</td>\n",
       "      <td>0.000000</td>\n",
       "      <td>11.000000</td>\n",
       "      <td>2.100000</td>\n",
       "      <td>0.000000</td>\n",
       "      <td>0.000000</td>\n",
       "      <td>0.000000</td>\n",
       "      <td>0.000000</td>\n",
       "      <td>0.000000</td>\n",
       "      <td>985.000000</td>\n",
       "      <td>0.000000</td>\n",
       "      <td>0.000000</td>\n",
       "      <td>9.000000</td>\n",
       "      <td>8.100000</td>\n",
       "    </tr>\n",
       "    <tr>\n",
       "      <th>25%</th>\n",
       "      <td>131399.75000</td>\n",
       "      <td>176.800000</td>\n",
       "      <td>54.100000</td>\n",
       "      <td>116.300000</td>\n",
       "      <td>0.000000</td>\n",
       "      <td>0.000000</td>\n",
       "      <td>24.200000</td>\n",
       "      <td>28.800000</td>\n",
       "      <td>1.000000</td>\n",
       "      <td>1.300000</td>\n",
       "      <td>0.400000</td>\n",
       "      <td>59.000000</td>\n",
       "      <td>3.700000</td>\n",
       "      <td>993.000000</td>\n",
       "      <td>0.000000</td>\n",
       "      <td>0.000000</td>\n",
       "      <td>24.200000</td>\n",
       "      <td>23.600000</td>\n",
       "    </tr>\n",
       "    <tr>\n",
       "      <th>50%</th>\n",
       "      <td>262799.50000</td>\n",
       "      <td>474.000000</td>\n",
       "      <td>345.700000</td>\n",
       "      <td>210.600000</td>\n",
       "      <td>4.500000</td>\n",
       "      <td>4.300000</td>\n",
       "      <td>28.000000</td>\n",
       "      <td>55.100000</td>\n",
       "      <td>1.900000</td>\n",
       "      <td>2.600000</td>\n",
       "      <td>0.500000</td>\n",
       "      <td>181.000000</td>\n",
       "      <td>8.600000</td>\n",
       "      <td>994.000000</td>\n",
       "      <td>0.000000</td>\n",
       "      <td>0.000000</td>\n",
       "      <td>30.000000</td>\n",
       "      <td>28.900000</td>\n",
       "    </tr>\n",
       "    <tr>\n",
       "      <th>75%</th>\n",
       "      <td>394199.25000</td>\n",
       "      <td>771.600000</td>\n",
       "      <td>602.900000</td>\n",
       "      <td>318.300000</td>\n",
       "      <td>463.700000</td>\n",
       "      <td>447.900000</td>\n",
       "      <td>32.300000</td>\n",
       "      <td>80.100000</td>\n",
       "      <td>3.100000</td>\n",
       "      <td>4.100000</td>\n",
       "      <td>0.600000</td>\n",
       "      <td>235.100000</td>\n",
       "      <td>12.300000</td>\n",
       "      <td>996.000000</td>\n",
       "      <td>0.000000</td>\n",
       "      <td>0.000000</td>\n",
       "      <td>46.900000</td>\n",
       "      <td>41.500000</td>\n",
       "    </tr>\n",
       "    <tr>\n",
       "      <th>max</th>\n",
       "      <td>525599.00000</td>\n",
       "      <td>1233.000000</td>\n",
       "      <td>952.300000</td>\n",
       "      <td>591.400000</td>\n",
       "      <td>1342.300000</td>\n",
       "      <td>1342.300000</td>\n",
       "      <td>43.800000</td>\n",
       "      <td>100.000000</td>\n",
       "      <td>19.500000</td>\n",
       "      <td>26.600000</td>\n",
       "      <td>4.200000</td>\n",
       "      <td>360.000000</td>\n",
       "      <td>99.400000</td>\n",
       "      <td>1003.000000</td>\n",
       "      <td>1.000000</td>\n",
       "      <td>2.500000</td>\n",
       "      <td>81.000000</td>\n",
       "      <td>72.500000</td>\n",
       "    </tr>\n",
       "  </tbody>\n",
       "</table>\n",
       "</div>"
      ],
      "text/plain": [
       "         Unnamed: 0            GHI            DNI            DHI  \\\n",
       "count  525600.00000  266664.000000  249613.000000  262680.000000   \n",
       "mean   262799.50000     476.477999     352.575567     225.162167   \n",
       "std    151727.79508     320.293849     280.657284     143.824953   \n",
       "min         0.00000       0.000000       0.000000       0.000000   \n",
       "25%    131399.75000     176.800000      54.100000     116.300000   \n",
       "50%    262799.50000     474.000000     345.700000     210.600000   \n",
       "75%    394199.25000     771.600000     602.900000     318.300000   \n",
       "max    525599.00000    1233.000000     952.300000     591.400000   \n",
       "\n",
       "                ModA           ModB           Tamb             RH  \\\n",
       "count  525600.000000  525600.000000  525600.000000  525600.000000   \n",
       "mean      236.589496     228.883576      28.179683      54.487969   \n",
       "std       326.894859     316.536515       5.924297      28.073069   \n",
       "min         0.000000       0.000000      11.000000       2.100000   \n",
       "25%         0.000000       0.000000      24.200000      28.800000   \n",
       "50%         4.500000       4.300000      28.000000      55.100000   \n",
       "75%       463.700000     447.900000      32.300000      80.100000   \n",
       "max      1342.300000    1342.300000      43.800000     100.000000   \n",
       "\n",
       "                  WS         WSgust        WSstdev             WD  \\\n",
       "count  525600.000000  525600.000000  525600.000000  525600.000000   \n",
       "mean        2.121113       2.809195       0.473390     153.435172   \n",
       "std         1.603466       2.029120       0.273395     102.332842   \n",
       "min         0.000000       0.000000       0.000000       0.000000   \n",
       "25%         1.000000       1.300000       0.400000      59.000000   \n",
       "50%         1.900000       2.600000       0.500000     181.000000   \n",
       "75%         3.100000       4.100000       0.600000     235.100000   \n",
       "max        19.500000      26.600000       4.200000     360.000000   \n",
       "\n",
       "             WDstdev             BP       Cleaning  Precipitation  \\\n",
       "count  525600.000000  525600.000000  525600.000000  525600.000000   \n",
       "mean        8.582407     994.197199       0.000923       0.001905   \n",
       "std         6.385864       2.474993       0.030363       0.037115   \n",
       "min         0.000000     985.000000       0.000000       0.000000   \n",
       "25%         3.700000     993.000000       0.000000       0.000000   \n",
       "50%         8.600000     994.000000       0.000000       0.000000   \n",
       "75%        12.300000     996.000000       0.000000       0.000000   \n",
       "max        99.400000    1003.000000       1.000000       2.500000   \n",
       "\n",
       "               TModA          TModB  \n",
       "count  525600.000000  525600.000000  \n",
       "mean       35.246026      32.471736  \n",
       "std        14.807258      12.348743  \n",
       "min         9.000000       8.100000  \n",
       "25%        24.200000      23.600000  \n",
       "50%        30.000000      28.900000  \n",
       "75%        46.900000      41.500000  \n",
       "max        81.000000      72.500000  "
      ]
     },
     "execution_count": 10,
     "metadata": {},
     "output_type": "execute_result"
    }
   ],
   "source": [
    "output_path = \"../data/sierraleone-bumbuna_clean.csv\"\n",
    "df.to_csv(output_path)\n",
    "\n",
    "df_clean = pd.read_csv('../data/benin-malanville_clean.csv')\n",
    "df_clean.describe()"
   ]
  }
 ],
 "metadata": {
  "kernelspec": {
   "display_name": "myenv",
   "language": "python",
   "name": "python3"
  },
  "language_info": {
   "codemirror_mode": {
    "name": "ipython",
    "version": 3
   },
   "file_extension": ".py",
   "mimetype": "text/x-python",
   "name": "python",
   "nbconvert_exporter": "python",
   "pygments_lexer": "ipython3",
   "version": "3.10.16"
  }
 },
 "nbformat": 4,
 "nbformat_minor": 5
}
